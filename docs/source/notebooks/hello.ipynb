{
 "cells": [
  {
   "cell_type": "markdown",
   "id": "d07312b3-3d4c-4b8b-9fda-5862e61f383f",
   "metadata": {
    "collapsed": false,
    "jupyter": {
     "outputs_hidden": false
    }
   },
   "source": [
    "### Computation Graph\n",
    "\n",
    "TODO: This notebook explains the concept of the \"Computation Graph\" - a DAG of small quantum subcircuits, and the process of "
   ]
  },
  {
   "cell_type": "code",
   "execution_count": 1,
   "id": "initial_id",
   "metadata": {
    "collapsed": false,
    "is_executing": true,
    "jupyter": {
     "outputs_hidden": false
    }
   },
   "outputs": [
    {
     "name": "stdout",
     "output_type": "stream",
     "text": [
      "(INFO) (base_tasks.py) (11-Sep-25 10:44:06) Pass: UnrollCustomDefinitions - 0.11349 (ms)\n",
      "(INFO) (base_tasks.py) (11-Sep-25 10:44:06) Pass: BasisTranslator - 0.03839 (ms)\n"
     ]
    }
   ],
   "source": [
    "from pathlib import Path\n",
    "\n",
    "from cutqc2.core.cut_circuit import CutCircuit"
   ]
  },
  {
   "cell_type": "code",
   "execution_count": 2,
   "id": "16f932b8-6be8-4e63-a163-46ebb926af80",
   "metadata": {},
   "outputs": [],
   "source": [
    "qasm_file = \"../../../examples/scripts/supremacy_6qubit.qasm3\"\n",
    "with Path.open(qasm_file) as f:\n",
    "    circuit_qasm3 = f.read()"
   ]
  },
  {
   "cell_type": "code",
   "execution_count": 3,
   "id": "0b3e14af-e160-4f1a-a9b0-c892f670f148",
   "metadata": {},
   "outputs": [
    {
     "name": "stdout",
     "output_type": "stream",
     "text": [
      "(INFO) (cut_circuit.py) (11-Sep-25 10:44:06) Trying with 3 subcircuits\n",
      "Set parameter Username\n",
      "(INFO) (cutter.py) (11-Sep-25 10:44:06) Set parameter Username\n",
      "Set parameter LicenseID to value 2646086\n",
      "(INFO) (cutter.py) (11-Sep-25 10:44:06) Set parameter LicenseID to value 2646086\n",
      "Academic license - for non-commercial use only - expires 2026-04-01\n",
      "(INFO) (cutter.py) (11-Sep-25 10:44:06) Academic license - for non-commercial use only - expires 2026-04-01\n",
      "(INFO) (cut_circuit.py) (11-Sep-25 10:44:06) Running subcircuit 0 on backend: statevector_simulator\n",
      "(INFO) (cut_circuit.py) (11-Sep-25 10:44:07) Running subcircuit 1 on backend: statevector_simulator\n",
      "(INFO) (cut_circuit.py) (11-Sep-25 10:44:07) Running subcircuit 2 on backend: statevector_simulator\n"
     ]
    }
   ],
   "source": [
    "cut_circuit = CutCircuit(circuit_qasm3=circuit_qasm3)\n",
    "cut_circuit.cut(\n",
    "    max_subcircuit_width=5,\n",
    "    max_subcircuit_cuts=10,\n",
    "    subcircuit_size_imbalance=2,\n",
    "    max_cuts=10,\n",
    "    num_subcircuits=[3],\n",
    ")\n",
    "\n",
    "cut_circuit.run_subcircuits()"
   ]
  },
  {
   "cell_type": "markdown",
   "id": "b9ee974b-1815-4bf3-adf2-946bb6f3d715",
   "metadata": {
    "collapsed": false,
    "jupyter": {
     "outputs_hidden": false
    }
   },
   "source": [
    "### Original uncut circuit"
   ]
  },
  {
   "cell_type": "code",
   "execution_count": 4,
   "id": "3fe44f9f7d224b42",
   "metadata": {
    "collapsed": false,
    "jupyter": {
     "outputs_hidden": false
    }
   },
   "outputs": [
    {
     "name": "stdout",
     "output_type": "stream",
     "text": [
      "     ┌───┐     ┌─────────┐   ┌───┐        ┌─────────┐   ┌───┐      ┌───┐             \n",
      "q_0: ┤ H ├──■──┤ Ry(π/2) ├───┤ T ├─────■──┤ Rx(π/2) ├───┤ T ├──────┤ H ├─────────────\n",
      "     ├───┤  │  ├─────────┤   ├───┤     │  └─────────┘   └───┘      └───┘        ┌───┐\n",
      "q_1: ┤ H ├──■──┤ Ry(π/2) ├───┤ T ├─────┼─────────────────────────────────────■──┤ H ├\n",
      "     ├───┤┌───┐└─────────┘┌──┴───┴──┐  │             ┌─────────┐   ┌───┐     │  ├───┤\n",
      "q_2: ┤ H ├┤ T ├─────■─────┤ Ry(π/2) ├──■───────■─────┤ Rx(π/2) ├───┤ T ├─────┼──┤ H ├\n",
      "     ├───┤├───┤     │     └─────────┘          │     └─────────┘┌──┴───┴──┐  │  ├───┤\n",
      "q_3: ┤ H ├┤ T ├─────┼──────────────────────────■──────────■─────┤ Ry(π/2) ├──■──┤ H ├\n",
      "     ├───┤└───┘     │     ┌─────────┐┌───┐   ┌───┐        │     └─────────┘     └───┘\n",
      "q_4: ┤ H ├──■───────■─────┤ Ry(π/2) ├┤ T ├───┤ H ├────────┼──────────────────────────\n",
      "     ├───┤  │  ┌─────────┐└──┬───┬──┘└───┘   └───┘        │     ┌─────────┐┌───┐┌───┐\n",
      "q_5: ┤ H ├──■──┤ Ry(π/2) ├───┤ T ├────────────────────────■─────┤ Ry(π/2) ├┤ T ├┤ H ├\n",
      "     └───┘     └─────────┘   └───┘                              └─────────┘└───┘└───┘\n"
     ]
    }
   ],
   "source": [
    "print(cut_circuit.circuit.draw(fold=-1))"
   ]
  },
  {
   "cell_type": "markdown",
   "id": "161142c0-92ef-4f9e-b051-9e81980544be",
   "metadata": {
    "collapsed": false,
    "jupyter": {
     "outputs_hidden": false
    }
   },
   "source": [
    "### Original circuit with cut locations"
   ]
  },
  {
   "cell_type": "code",
   "execution_count": 5,
   "id": "42b5a874-4e20-49e1-b26b-cfe61f33ce98",
   "metadata": {},
   "outputs": [
    {
     "name": "stdout",
     "output_type": "stream",
     "text": [
      "     ┌───┐     ┌─────────┐   ┌───┐                   ┌─────────┐┌───┐   ┌───┐                                   \n",
      "q_0: ┤ H ├──■──┤ Ry(π/2) ├───┤ T ├────────────────■──┤ Rx(π/2) ├┤ T ├───┤ H ├───────────────────────────────────\n",
      "     ├───┤  │  ├─────────┤   ├───┤                │  └─────────┘└───┘   └───┘                              ┌───┐\n",
      "q_1: ┤ H ├──■──┤ Ry(π/2) ├───┤ T ├────────────────┼─────────────────────────────────────────────────────■──┤ H ├\n",
      "     ├───┤┌───┐└─────────┘   ├───┴┐  ┌─────────┐  │     ┌────┐       ┌─────────┐   ┌───┐      ┌───┐     │  └───┘\n",
      "q_2: ┤ H ├┤ T ├─────■────────┤ // ├──┤ Ry(π/2) ├──■─────┤ // ├────■──┤ Rx(π/2) ├───┤ T ├──────┤ H ├─────┼───────\n",
      "     ├───┤├───┤     │        └────┘  └─────────┘        └────┘    │  └─────────┘   ├───┴┐  ┌──┴───┴──┐  │  ┌───┐\n",
      "q_3: ┤ H ├┤ T ├─────┼─────────────────────────────────────────────■───────■────────┤ // ├──┤ Ry(π/2) ├──■──┤ H ├\n",
      "     ├───┤└───┘     │     ┌─────────┐   ┌───┐   ┌───┐                     │        └────┘  └─────────┘     └───┘\n",
      "q_4: ┤ H ├──■───────■─────┤ Ry(π/2) ├───┤ T ├───┤ H ├─────────────────────┼─────────────────────────────────────\n",
      "     ├───┤  │     ┌────┐  ├─────────┤   ├───┤   └───┘                     │     ┌─────────┐   ┌───┐   ┌───┐     \n",
      "q_5: ┤ H ├──■─────┤ // ├──┤ Ry(π/2) ├───┤ T ├─────────────────────────────■─────┤ Ry(π/2) ├───┤ T ├───┤ H ├─────\n",
      "     └───┘        └────┘  └─────────┘   └───┘                                   └─────────┘   └───┘   └───┘     \n"
     ]
    }
   ],
   "source": [
    "print(cut_circuit)"
   ]
  },
  {
   "cell_type": "markdown",
   "id": "6f64a013-17c1-4965-94e2-68449a7bcc3b",
   "metadata": {
    "collapsed": false,
    "jupyter": {
     "outputs_hidden": false
    }
   },
   "source": [
    "### Subcircuits after cutting"
   ]
  },
  {
   "cell_type": "code",
   "execution_count": 6,
   "id": "63049c4a-46e6-4958-9c81-1eb3834ac650",
   "metadata": {},
   "outputs": [
    {
     "name": "stdout",
     "output_type": "stream",
     "text": [
      "     ┌───┐   ┌─────────┐┌───┐   ┌─────────┐┌───┐┌───┐\n",
      "q_0: ┤ H ├─■─┤ Ry(π/2) ├┤ T ├─■─┤ Rx(π/2) ├┤ T ├┤ H ├\n",
      "     ├───┤ │ ├─────────┤├───┤ │ └─────────┘├───┤└───┘\n",
      "q_1: ┤ H ├─■─┤ Ry(π/2) ├┤ T ├─┼──────■─────┤ H ├─────\n",
      "     └───┘   └─────────┘└───┘ │      │     └───┘     \n",
      "q_2: ─────────────────────────■──────┼───────────────\n",
      "                                     │     ┌───┐     \n",
      "q_3: ────────────────────────────────■─────┤ H ├─────\n",
      "                                           └───┘     \n",
      "     ┌───┐        ┌─────────┐┌───┐┌───┐\n",
      "q_0: ┤ H ├──■───■─┤ Ry(π/2) ├┤ T ├┤ H ├\n",
      "     ├───┤  │   │ ├─────────┤├───┤└───┘\n",
      "q_1: ┤ H ├──■───┼─┤ Ry(π/2) ├┤ T ├─────\n",
      "     ├───┤┌───┐ │ ├─────────┤└───┘     \n",
      "q_2: ┤ H ├┤ T ├─■─┤ Ry(π/2) ├──────────\n",
      "     └───┘└───┘   └─────────┘          \n",
      "                  ┌─────────┐   ┌───┐   ┌───┐     \n",
      "q_0: ───────────■─┤ Rx(π/2) ├───┤ T ├───┤ H ├─────\n",
      "     ┌───┐┌───┐ │ └─────────┘┌──┴───┴──┐└───┘     \n",
      "q_1: ┤ H ├┤ T ├─■──────■─────┤ Ry(π/2) ├──────────\n",
      "     └───┘└───┘        │     ├─────────┤┌───┐┌───┐\n",
      "q_2: ──────────────────■─────┤ Ry(π/2) ├┤ T ├┤ H ├\n",
      "                             └─────────┘└───┘└───┘\n"
     ]
    }
   ],
   "source": [
    "for subcircuit in cut_circuit.subcircuits:\n",
    "    print(subcircuit)"
   ]
  },
  {
   "cell_type": "markdown",
   "id": "b62fa48b-b9a7-489f-9e58-b25e19778bc8",
   "metadata": {
    "collapsed": false,
    "jupyter": {
     "outputs_hidden": false
    }
   },
   "source": [
    "### Computation Graph"
   ]
  },
  {
   "cell_type": "code",
   "execution_count": 7,
   "id": "d6345f86cf6d67da",
   "metadata": {
    "collapsed": false,
    "jupyter": {
     "outputs_hidden": false
    }
   },
   "outputs": [
    {
     "data": {
      "image/png": "[encoded data removed]",
      "text/plain": [
       "<Figure size 640x480 with 1 Axes>"
      ]
     },
     "metadata": {},
     "output_type": "display_data"
    }
   ],
   "source": [
    "cut_circuit.compute_graph.draw()"
   ]
  }
 ],
 "metadata": {
  "kernelspec": {
   "display_name": "Python 3 (ipykernel)",
   "language": "python",
   "name": "python3"
  },
  "language_info": {
   "codemirror_mode": {
    "name": "ipython",
    "version": 3
   },
   "file_extension": ".py",
   "mimetype": "text/x-python",
   "name": "python",
   "nbconvert_exporter": "python",
   "pygments_lexer": "ipython3",
   "version": "3.12.9"
  }
 },
 "nbformat": 4,
 "nbformat_minor": 5
}
