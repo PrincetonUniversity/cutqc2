{
 "cells": [
  {
   "cell_type": "markdown",
   "id": "d07312b3-3d4c-4b8b-9fda-5862e61f383f",
   "metadata": {
    "collapsed": false,
    "jupyter": {
     "outputs_hidden": false
    }
   },
   "source": [
    "# Circuit-Cutting with Cutqc2\n",
    "\n",
    "This notebook illustrates the use of `Cutqc2` to cut, save and run quantum circuits (`qiskit.QuantumCircuit` objects) and reconstruct the probability state vector of the original uncut circuit."
   ]
  },
  {
   "cell_type": "code",
   "execution_count": 2,
   "id": "initial_id",
   "metadata": {
    "collapsed": false,
    "is_executing": true,
    "jupyter": {
     "outputs_hidden": false
    }
   },
   "outputs": [],
   "source": [
    "from math import pi\n",
    "\n",
    "import qiskit\n",
    "\n",
    "from cutqc2.core.cut_circuit import CutCircuit"
   ]
  },
  {
   "cell_type": "markdown",
   "id": "12f0901d-0e85-40f4-9c14-3c9cfaf6a3be",
   "metadata": {},
   "source": [
    "## The uncut circuit\n",
    "\n",
    "The circuit we intend to cut is a regular `qiskit.QuantumCircuit` object. Here we create a simple circuit corresponding to Figure 4 in the original CutQC paper."
   ]
  },
  {
   "cell_type": "code",
   "execution_count": 3,
   "id": "9ccd562b-493e-4e64-af64-5ec39d24048f",
   "metadata": {},
   "outputs": [],
   "source": [
    "def example_circuit():\n",
    "    qc = qiskit.QuantumCircuit(5)\n",
    "    qc.reset(0)\n",
    "    qc.reset(1)\n",
    "    qc.reset(2)\n",
    "    qc.reset(3)\n",
    "    qc.reset(4)\n",
    "\n",
    "    qc.h(0)\n",
    "    qc.h(1)\n",
    "    qc.h(2)\n",
    "    qc.h(3)\n",
    "    qc.h(4)\n",
    "\n",
    "    qc.cz(0, 1)\n",
    "    qc.t(2)\n",
    "    qc.t(3)\n",
    "    qc.t(4)\n",
    "\n",
    "    qc.cz(0, 2)\n",
    "    qc.rx(pi / 2, 4)\n",
    "\n",
    "    qc.rx(pi / 2, 0)\n",
    "    qc.rx(pi / 2, 1)\n",
    "    qc.cz(2, 4)\n",
    "\n",
    "    qc.t(0)\n",
    "    qc.t(1)\n",
    "    qc.cz(2, 3)\n",
    "    qc.rx(pi / 2, 4)\n",
    "\n",
    "    qc.h(0)\n",
    "    qc.h(1)\n",
    "    qc.h(2)\n",
    "    qc.h(3)\n",
    "    qc.h(4)\n",
    "\n",
    "    return qc\n",
    "\n",
    "\n",
    "circuit = example_circuit()"
   ]
  },
  {
   "cell_type": "markdown",
   "id": "7e135edc-81b8-4cf4-93a5-f66c8b9f915d",
   "metadata": {},
   "source": [
    "## The `CutCircuit` class\n",
    "\n",
    "We create a `CutCircuit` object by providing it with a `qiskit.QuantumCircuit` object using the `circuit` parameter in the constructor. Initialization using `qasm3` strings is also possible."
   ]
  },
  {
   "cell_type": "code",
   "execution_count": 4,
   "id": "16f932b8-6be8-4e63-a163-46ebb926af80",
   "metadata": {},
   "outputs": [],
   "source": [
    "cut_circuit = CutCircuit(circuit=circuit)"
   ]
  },
  {
   "cell_type": "markdown",
   "id": "03702ef7-c0f7-4e7b-9f4c-5d58c13c06b5",
   "metadata": {},
   "source": [
    "The uncut circuit is a `qiskit.QuantumCircuit` object, and stored as the `circuit` attribute of `cut_circuit`. Let's draw it out."
   ]
  },
  {
   "cell_type": "code",
   "execution_count": 5,
   "id": "6beffb64-ab31-4330-b807-cb8c74dd3dc4",
   "metadata": {},
   "outputs": [
    {
     "name": "stdout",
     "output_type": "stream",
     "text": [
      "          ┌───┐                ┌─────────┐   ┌───┐   ┌───┐\n",
      "q_0: ─|0>─┤ H ├──■───────■─────┤ Rx(π/2) ├───┤ T ├───┤ H ├\n",
      "          ├───┤  │       │     ├─────────┤   ├───┤   ├───┤\n",
      "q_1: ─|0>─┤ H ├──■───────┼─────┤ Rx(π/2) ├───┤ T ├───┤ H ├\n",
      "          ├───┤┌───┐     │     └─────────┘   └───┘   ├───┤\n",
      "q_2: ─|0>─┤ H ├┤ T ├─────■──────────■──────────■─────┤ H ├\n",
      "          ├───┤├───┤                │          │     ├───┤\n",
      "q_3: ─|0>─┤ H ├┤ T ├────────────────┼──────────■─────┤ H ├\n",
      "          ├───┤├───┤┌─────────┐     │     ┌─────────┐├───┤\n",
      "q_4: ─|0>─┤ H ├┤ T ├┤ Rx(π/2) ├─────■─────┤ Rx(π/2) ├┤ H ├\n",
      "          └───┘└───┘└─────────┘           └─────────┘└───┘\n"
     ]
    }
   ],
   "source": [
    "print(cut_circuit.circuit.draw(fold=-1))"
   ]
  },
  {
   "cell_type": "markdown",
   "id": "d3df93dc-85f7-4e69-ae92-7cf38dc57574",
   "metadata": {},
   "source": [
    "### Cutting\n",
    "\n",
    "Perform circuit-cutting by invoking the `cut` method. Pay attention to the parameters to this method. The `num_subcircuits` parameter is a list of integers, indicating the number of subcircuits for the optimizer to try."
   ]
  },
  {
   "cell_type": "code",
   "execution_count": 6,
   "id": "b0eb7938-5b6f-4b63-b83c-4fe873ba912e",
   "metadata": {},
   "outputs": [
    {
     "name": "stdout",
     "output_type": "stream",
     "text": [
      "(INFO) (cut_circuit.py) (26-Sep-25 17:20:07) Trying with 2 subcircuits\n",
      "Set parameter Username\n",
      "(INFO) (mip.py) (26-Sep-25 17:20:07) Set parameter Username\n",
      "Set parameter LicenseID to value 2646086\n",
      "(INFO) (mip.py) (26-Sep-25 17:20:07) Set parameter LicenseID to value 2646086\n",
      "Academic license - for non-commercial use only - expires 2026-04-01\n",
      "(INFO) (mip.py) (26-Sep-25 17:20:07) Academic license - for non-commercial use only - expires 2026-04-01\n"
     ]
    }
   ],
   "source": [
    "cut_circuit.cut(\n",
    "    max_subcircuit_width=3,  # Max qubits per subcircuit\n",
    "    max_cuts=1,  # Max total cuts in the circuit\n",
    "    num_subcircuits=[2],  # Desired number of subcircuits to try\n",
    ")"
   ]
  },
  {
   "cell_type": "markdown",
   "id": "1636e299-9243-4671-bc62-4a7a4bd53de4",
   "metadata": {},
   "source": [
    "Printing the `cut_circuit` object gives us the location of the auto-placed cuts (as the placeholder `//` gates)."
   ]
  },
  {
   "cell_type": "code",
   "execution_count": 6,
   "id": "8da1aabd-ddbf-4ac1-9506-e88ec82bd50a",
   "metadata": {},
   "outputs": [
    {
     "name": "stdout",
     "output_type": "stream",
     "text": [
      "          ┌───┐                   ┌─────────┐┌───┐   ┌───┐        \n",
      "q_0: ─|0>─┤ H ├──■──────────────■─┤ Rx(π/2) ├┤ T ├───┤ H ├────────\n",
      "          ├───┤  │  ┌─────────┐ │ └──┬───┬──┘├───┤   └───┘        \n",
      "q_1: ─|0>─┤ H ├──■──┤ Rx(π/2) ├─┼────┤ T ├───┤ H ├────────────────\n",
      "          ├───┤┌───┐└─────────┘ │    ├───┴┐  └───┘           ┌───┐\n",
      "q_2: ─|0>─┤ H ├┤ T ├────────────■────┤ // ├────■───────■─────┤ H ├\n",
      "          ├───┤├───┤                 └────┘    │       │     ├───┤\n",
      "q_3: ─|0>─┤ H ├┤ T ├───────────────────────────┼───────■─────┤ H ├\n",
      "          ├───┤├───┤┌─────────┐                │  ┌─────────┐├───┤\n",
      "q_4: ─|0>─┤ H ├┤ T ├┤ Rx(π/2) ├────────────────■──┤ Rx(π/2) ├┤ H ├\n",
      "          └───┘└───┘└─────────┘                   └─────────┘└───┘\n"
     ]
    }
   ],
   "source": [
    "print(cut_circuit)"
   ]
  },
  {
   "cell_type": "markdown",
   "id": "6f64a013-17c1-4965-94e2-68449a7bcc3b",
   "metadata": {
    "collapsed": false,
    "jupyter": {
     "outputs_hidden": false
    }
   },
   "source": [
    "### Subcircuits\n",
    "\n",
    "Once cut, the individual subcircuits (`qiskit.QuantumCircuit` objects), can be printed."
   ]
  },
  {
   "cell_type": "code",
   "execution_count": 7,
   "id": "63049c4a-46e6-4958-9c81-1eb3834ac650",
   "metadata": {},
   "outputs": [
    {
     "name": "stdout",
     "output_type": "stream",
     "text": [
      "          ┌───┐                   ┌─────────┐┌───┐┌───┐\n",
      "q_0: ─|0>─┤ H ├──■──────────────■─┤ Rx(π/2) ├┤ T ├┤ H ├\n",
      "          ├───┤  │  ┌─────────┐ │ └──┬───┬──┘├───┤└───┘\n",
      "q_1: ─|0>─┤ H ├──■──┤ Rx(π/2) ├─┼────┤ T ├───┤ H ├─────\n",
      "          ├───┤┌───┐└─────────┘ │    └───┘   └───┘     \n",
      "q_2: ─|0>─┤ H ├┤ T ├────────────■──────────────────────\n",
      "          └───┘└───┘                                   \n",
      "                                        ┌───┐        \n",
      "q_0: ───────────────────────────■──■────┤ H ├────────\n",
      "          ┌───┐┌───┐┌─────────┐ │  │ ┌──┴───┴──┐┌───┐\n",
      "q_1: ─|0>─┤ H ├┤ T ├┤ Rx(π/2) ├─■──┼─┤ Rx(π/2) ├┤ H ├\n",
      "          ├───┤├───┤└─────────┘    │ └──┬───┬──┘└───┘\n",
      "q_2: ─|0>─┤ H ├┤ T ├───────────────■────┤ H ├────────\n",
      "          └───┘└───┘                    └───┘        \n"
     ]
    }
   ],
   "source": [
    "for subcircuit in cut_circuit.subcircuits:\n",
    "    print(subcircuit.draw(fold=-1))"
   ]
  },
  {
   "cell_type": "markdown",
   "id": "b62fa48b-b9a7-489f-9e58-b25e19778bc8",
   "metadata": {
    "collapsed": false,
    "jupyter": {
     "outputs_hidden": false
    }
   },
   "source": [
    "### Running\n",
    "\n",
    "Subcircuits of a `CutCircuit` object can be run using the `run_subcircuits()` method."
   ]
  },
  {
   "cell_type": "code",
   "execution_count": 8,
   "id": "e68e8816-e130-4533-bb6b-6536145593b5",
   "metadata": {},
   "outputs": [
    {
     "name": "stdout",
     "output_type": "stream",
     "text": [
      "(INFO) (cut_circuit.py) (18-Sep-25 09:43:06) Running subcircuit 0 on backend: statevector_simulator\n",
      "(INFO) (cut_circuit.py) (18-Sep-25 09:43:06) Running subcircuit 1 on backend: statevector_simulator\n"
     ]
    }
   ],
   "source": [
    "# Run all the subcircuits - by default we use the `statevector_simulator` backend from qiskit.\n",
    "cut_circuit.run_subcircuits()"
   ]
  },
  {
   "cell_type": "markdown",
   "id": "e5900a35-7d52-43d0-b8be-7231a47c8ce8",
   "metadata": {},
   "source": [
    "### Saving\n",
    "\n",
    "The `CutCircuit` object (along with the state vectors of its subcircuits) can be saved using the `to_file()` method. Currently, the `zarr` format is supported."
   ]
  },
  {
   "cell_type": "code",
   "execution_count": 9,
   "id": "aff96710-2a87-4181-8cb0-126597ac39d8",
   "metadata": {},
   "outputs": [
    {
     "name": "stderr",
     "output_type": "stream",
     "text": [
      "/media/vineetb/delta/projects/cutqc2/.venv/lib/python3.12/site-packages/zarr/core/dtype/npy/structured.py:318: UnstableSpecificationWarning: The data type (Structured(fields=(('subcircuit', Int32(endianness='little')), ('qubit', Int32(endianness='little'))))) does not have a Zarr V3 specification. That means that the representation of arrays saved with this data type may change without warning in a future version of Zarr Python. Arrays stored with this data type may be unreadable by other Zarr libraries. Use this data type at your own risk! Check https://github.com/zarr-developers/zarr-extensions/tree/main/data-types for the status of data type specifications for Zarr V3.\n",
      "  v3_unstable_dtype_warning(self)\n",
      "/media/vineetb/delta/projects/cutqc2/.venv/lib/python3.12/site-packages/zarr/core/dtype/npy/string.py:248: UnstableSpecificationWarning: The data type (FixedLengthUTF32(length=20, endianness='little')) does not have a Zarr V3 specification. That means that the representation of arrays saved with this data type may change without warning in a future version of Zarr Python. Arrays stored with this data type may be unreadable by other Zarr libraries. Use this data type at your own risk! Check https://github.com/zarr-developers/zarr-extensions/tree/main/data-types for the status of data type specifications for Zarr V3.\n",
      "  v3_unstable_dtype_warning(self)\n"
     ]
    }
   ],
   "source": [
    "cut_circuit.to_file(\"cut_circuit.zarr\")"
   ]
  },
  {
   "cell_type": "markdown",
   "id": "9e9de122-d67e-4048-8926-95dc932e3701",
   "metadata": {},
   "source": [
    "### Loading\n",
    "\n",
    "A previously saved `CutCircuit` object can be loaded using the `from_file` static method of `CutCircuit`."
   ]
  },
  {
   "cell_type": "code",
   "execution_count": 10,
   "id": "fdd06f71-c84e-4326-8d9a-0f48c23158fa",
   "metadata": {},
   "outputs": [],
   "source": [
    "cut_circuit = CutCircuit.from_file(\"cut_circuit.zarr\")"
   ]
  },
  {
   "cell_type": "markdown",
   "id": "94217ac1-736c-4f38-bd4d-2af291407104",
   "metadata": {},
   "source": [
    "### Reconstruction\n",
    "\n",
    "The *reconstruction* process - calculating the state vector of the original uncut circuit using the individual subcircuit state vectors, can be invoked by using the `postprocess` method of the `CutCircuit` class.\n",
    "\n",
    "The `capacity` parameter indicates the number of qubits we are able to hold in memory at a time during the reconstruction process. The reconstructed state vector will be of size $2^{capacity}$.\n",
    "\n",
    "The `max_recursion` parameter is a measure of how many iterations of reconstruction we're willing to perform. A greater value of `max_recursion` will allow for better reconstruction.\n",
    "\n",
    "`capacity`/`max_recursion` are specify tradeoffs between space- and time- complexity of the reconstruction process."
   ]
  },
  {
   "cell_type": "code",
   "execution_count": 11,
   "id": "9fcf5ddb-ed27-4d5e-8125-479e672bf8e7",
   "metadata": {},
   "outputs": [
    {
     "name": "stdout",
     "output_type": "stream",
     "text": [
      "(INFO) (cut_circuit.py) (18-Sep-25 09:43:07) Postprocessing the cut circuit\n",
      "(INFO) (cut_circuit.py) (18-Sep-25 09:43:07) Starting dynamic definition run\n",
      "(INFO) (dynamic_definition.py) (18-Sep-25 09:43:07) Calculating initial probabilities for qubit spec AAAMM\n",
      "(INFO) (cut_circuit.py) (18-Sep-25 09:43:07) Computing probabilities for qubit spec AAAMM\n",
      "(INFO) (cut_circuit.py) (18-Sep-25 09:43:07)   Processed 0/4 initializations\n",
      "(INFO) (dynamic_definition.py) (18-Sep-25 09:43:07) recursion_level=1, qubit_spec='AAAMM'\n",
      "(INFO) (cut_circuit.py) (18-Sep-25 09:43:07) Computing probabilities for qubit spec 00000\n",
      "(INFO) (cut_circuit.py) (18-Sep-25 09:43:07)   Processed 0/4 initializations\n",
      "(INFO) (cut_circuit.py) (18-Sep-25 09:43:07) Computing probabilities for qubit spec 00001\n",
      "(INFO) (cut_circuit.py) (18-Sep-25 09:43:07)   Processed 0/4 initializations\n",
      "(INFO) (cut_circuit.py) (18-Sep-25 09:43:07) Computing probabilities for qubit spec 00010\n",
      "(INFO) (cut_circuit.py) (18-Sep-25 09:43:07)   Processed 0/4 initializations\n",
      "(INFO) (cut_circuit.py) (18-Sep-25 09:43:07) Computing probabilities for qubit spec 00011\n",
      "(INFO) (cut_circuit.py) (18-Sep-25 09:43:07)   Processed 0/4 initializations\n",
      "(INFO) (cut_circuit.py) (18-Sep-25 09:43:07) Computing probabilities for qubit spec 00100\n",
      "(INFO) (cut_circuit.py) (18-Sep-25 09:43:07)   Processed 0/4 initializations\n",
      "(INFO) (cut_circuit.py) (18-Sep-25 09:43:07) Computing probabilities for qubit spec 00101\n",
      "(INFO) (cut_circuit.py) (18-Sep-25 09:43:07)   Processed 0/4 initializations\n",
      "(INFO) (cut_circuit.py) (18-Sep-25 09:43:07) Computing probabilities for qubit spec 00110\n",
      "(INFO) (cut_circuit.py) (18-Sep-25 09:43:07)   Processed 0/4 initializations\n",
      "(INFO) (cut_circuit.py) (18-Sep-25 09:43:07) Computing probabilities for qubit spec 00111\n",
      "(INFO) (cut_circuit.py) (18-Sep-25 09:43:07)   Processed 0/4 initializations\n",
      "(INFO) (cut_circuit.py) (18-Sep-25 09:43:07) Computing probabilities for qubit spec 01000\n",
      "(INFO) (cut_circuit.py) (18-Sep-25 09:43:07)   Processed 0/4 initializations\n",
      "(INFO) (cut_circuit.py) (18-Sep-25 09:43:07) Computing probabilities for qubit spec 01001\n",
      "(INFO) (cut_circuit.py) (18-Sep-25 09:43:07)   Processed 0/4 initializations\n",
      "(INFO) (cut_circuit.py) (18-Sep-25 09:43:07) Computing probabilities for qubit spec 01010\n",
      "(INFO) (cut_circuit.py) (18-Sep-25 09:43:07)   Processed 0/4 initializations\n",
      "(INFO) (cut_circuit.py) (18-Sep-25 09:43:07) Computing probabilities for qubit spec 01011\n",
      "(INFO) (cut_circuit.py) (18-Sep-25 09:43:07)   Processed 0/4 initializations\n",
      "(INFO) (cut_circuit.py) (18-Sep-25 09:43:07) Computing probabilities for qubit spec 01100\n",
      "(INFO) (cut_circuit.py) (18-Sep-25 09:43:07)   Processed 0/4 initializations\n",
      "(INFO) (cut_circuit.py) (18-Sep-25 09:43:07) Computing probabilities for qubit spec 01101\n",
      "(INFO) (cut_circuit.py) (18-Sep-25 09:43:07)   Processed 0/4 initializations\n",
      "(INFO) (cut_circuit.py) (18-Sep-25 09:43:07) Computing probabilities for qubit spec 01110\n",
      "(INFO) (cut_circuit.py) (18-Sep-25 09:43:07)   Processed 0/4 initializations\n",
      "(INFO) (cut_circuit.py) (18-Sep-25 09:43:07) Computing probabilities for qubit spec 01111\n",
      "(INFO) (cut_circuit.py) (18-Sep-25 09:43:07)   Processed 0/4 initializations\n",
      "(INFO) (cut_circuit.py) (18-Sep-25 09:43:07) Computing probabilities for qubit spec 10000\n",
      "(INFO) (cut_circuit.py) (18-Sep-25 09:43:07)   Processed 0/4 initializations\n",
      "(INFO) (cut_circuit.py) (18-Sep-25 09:43:07) Computing probabilities for qubit spec 10001\n",
      "(INFO) (cut_circuit.py) (18-Sep-25 09:43:07)   Processed 0/4 initializations\n",
      "(INFO) (cut_circuit.py) (18-Sep-25 09:43:07) Computing probabilities for qubit spec 10010\n",
      "(INFO) (cut_circuit.py) (18-Sep-25 09:43:07)   Processed 0/4 initializations\n",
      "(INFO) (cut_circuit.py) (18-Sep-25 09:43:07) Computing probabilities for qubit spec 10011\n",
      "(INFO) (cut_circuit.py) (18-Sep-25 09:43:07)   Processed 0/4 initializations\n",
      "(INFO) (cut_circuit.py) (18-Sep-25 09:43:07) Computing probabilities for qubit spec 10100\n",
      "(INFO) (cut_circuit.py) (18-Sep-25 09:43:07)   Processed 0/4 initializations\n",
      "(INFO) (cut_circuit.py) (18-Sep-25 09:43:07) Computing probabilities for qubit spec 10101\n",
      "(INFO) (cut_circuit.py) (18-Sep-25 09:43:07)   Processed 0/4 initializations\n",
      "(INFO) (cut_circuit.py) (18-Sep-25 09:43:07) Computing probabilities for qubit spec 10110\n",
      "(INFO) (cut_circuit.py) (18-Sep-25 09:43:07)   Processed 0/4 initializations\n",
      "(INFO) (cut_circuit.py) (18-Sep-25 09:43:07) Computing probabilities for qubit spec 10111\n",
      "(INFO) (cut_circuit.py) (18-Sep-25 09:43:07)   Processed 0/4 initializations\n",
      "(INFO) (cut_circuit.py) (18-Sep-25 09:43:07) Computing probabilities for qubit spec 11000\n",
      "(INFO) (cut_circuit.py) (18-Sep-25 09:43:07)   Processed 0/4 initializations\n",
      "(INFO) (cut_circuit.py) (18-Sep-25 09:43:07) Computing probabilities for qubit spec 11001\n",
      "(INFO) (cut_circuit.py) (18-Sep-25 09:43:07)   Processed 0/4 initializations\n",
      "(INFO) (cut_circuit.py) (18-Sep-25 09:43:07) Computing probabilities for qubit spec 11010\n",
      "(INFO) (cut_circuit.py) (18-Sep-25 09:43:07)   Processed 0/4 initializations\n",
      "(INFO) (cut_circuit.py) (18-Sep-25 09:43:07) Computing probabilities for qubit spec 11011\n",
      "(INFO) (cut_circuit.py) (18-Sep-25 09:43:07)   Processed 0/4 initializations\n",
      "(INFO) (cut_circuit.py) (18-Sep-25 09:43:07) Computing probabilities for qubit spec 11100\n",
      "(INFO) (cut_circuit.py) (18-Sep-25 09:43:07)   Processed 0/4 initializations\n",
      "(INFO) (cut_circuit.py) (18-Sep-25 09:43:07) Computing probabilities for qubit spec 11101\n",
      "(INFO) (cut_circuit.py) (18-Sep-25 09:43:07)   Processed 0/4 initializations\n",
      "(INFO) (cut_circuit.py) (18-Sep-25 09:43:07) Computing probabilities for qubit spec 11110\n",
      "(INFO) (cut_circuit.py) (18-Sep-25 09:43:07)   Processed 0/4 initializations\n",
      "(INFO) (cut_circuit.py) (18-Sep-25 09:43:07) Computing probabilities for qubit spec 11111\n",
      "(INFO) (cut_circuit.py) (18-Sep-25 09:43:07)   Processed 0/4 initializations\n",
      "(INFO) (dynamic_definition.py) (18-Sep-25 09:43:07) recursion_level=2, qubit_spec='00000'\n"
     ]
    }
   ],
   "source": [
    "cut_circuit.postprocess(capacity=3, max_recursion=9)"
   ]
  },
  {
   "cell_type": "markdown",
   "id": "2ed97572-3f74-46f9-b63b-88b057266b49",
   "metadata": {},
   "source": [
    "### Verification\n",
    "\n",
    "For small quantum circuits, we can verify that the reconstructed state vector along with the ground truth state vector (determined by running the uncut qiskit circuit against the `statevector_simulator` backend)."
   ]
  },
  {
   "cell_type": "code",
   "execution_count": 12,
   "id": "f982973f-f29f-485e-87d2-6008b39f3690",
   "metadata": {},
   "outputs": [
    {
     "name": "stdout",
     "output_type": "stream",
     "text": [
      "(INFO) (cut_circuit.py) (18-Sep-25 09:43:07) Converting quasi to real probabilities\n",
      "(INFO) (conversions.py) (18-Sep-25 09:43:07) Computing nearest probability distribution\n",
      "(INFO) (conversions.py) (18-Sep-25 09:43:07) Sorting\n",
      "(INFO) (conversions.py) (18-Sep-25 09:43:07) Computed nearest probability distribution\n",
      "(INFO) (cut_circuit.py) (18-Sep-25 09:43:07) Verifying cut circuit against original circuit\n",
      "(INFO) (cut_circuit.py) (18-Sep-25 09:43:07) Evaluating ground truth using statevector_simulator\n",
      "Verification error: 2.7382709336055705e-15\n"
     ]
    },
    {
     "name": "stderr",
     "output_type": "stream",
     "text": [
      "/tmp/ipykernel_20088/542888601.py:1: UserWarning: Generating all 2^num_qubits states. This may be memory intensive.\n",
      "  probabilities = cut_circuit.get_probabilities()\n"
     ]
    }
   ],
   "source": [
    "probabilities = cut_circuit.get_probabilities()\n",
    "error = cut_circuit.verify(probabilities, raise_error=False)\n",
    "print(f\"Verification error: {error}\")"
   ]
  },
  {
   "cell_type": "markdown",
   "id": "318f3914-ce08-43f8-9f6e-0236cd73a89a",
   "metadata": {},
   "source": [
    "### Plotting\n",
    "\n",
    "For small quantum circuits, we can plot out the reconstructed state vector along with the ground truth state vector (determined by running the uncut qiskit circuit against the `statevector_simulator` backend)."
   ]
  },
  {
   "cell_type": "code",
   "execution_count": 13,
   "id": "83d5f4a0-ab1b-4c84-aa01-85191be85389",
   "metadata": {},
   "outputs": [
    {
     "name": "stdout",
     "output_type": "stream",
     "text": [
      "(INFO) (cut_circuit.py) (18-Sep-25 09:43:07) Evaluating ground truth using statevector_simulator\n",
      "(INFO) (cut_circuit.py) (18-Sep-25 09:43:07) Converting quasi to real probabilities\n",
      "(INFO) (conversions.py) (18-Sep-25 09:43:07) Computing nearest probability distribution\n",
      "(INFO) (conversions.py) (18-Sep-25 09:43:07) Sorting\n",
      "(INFO) (conversions.py) (18-Sep-25 09:43:07) Computed nearest probability distribution\n"
     ]
    },
    {
     "name": "stderr",
     "output_type": "stream",
     "text": [
      "/tmp/ipykernel_20088/402829356.py:1: UserWarning: Generating all 2^num_qubits states. This may be memory intensive.\n",
      "  cut_circuit.plot(plot_ground_truth=True)\n"
     ]
    },
    {
     "data": {
      "image/png": "[encoded data removed]",
      "text/plain": [
       "<Figure size 640x480 with 1 Axes>"
      ]
     },
     "metadata": {},
     "output_type": "display_data"
    }
   ],
   "source": [
    "cut_circuit.plot(plot_ground_truth=True)"
   ]
  }
 ],
 "metadata": {
  "kernelspec": {
   "display_name": "Python 3 (ipykernel)",
   "language": "python",
   "name": "python3"
  },
  "language_info": {
   "codemirror_mode": {
    "name": "ipython",
    "version": 3
   },
   "file_extension": ".py",
   "mimetype": "text/x-python",
   "name": "python",
   "nbconvert_exporter": "python",
   "pygments_lexer": "ipython3",
   "version": "3.12.9"
  }
 },
 "nbformat": 4,
 "nbformat_minor": 5
}
